{
 "cells": [
  {
   "cell_type": "markdown",
   "metadata": {},
   "source": [
    "# Homework 1"
   ]
  },
  {
   "cell_type": "code",
   "execution_count": 72,
   "metadata": {
    "collapsed": true
   },
   "outputs": [],
   "source": [
    "import pandas as pd"
   ]
  },
  {
   "cell_type": "markdown",
   "metadata": {},
   "source": [
    "## Load data"
   ]
  },
  {
   "cell_type": "code",
   "execution_count": 73,
   "metadata": {},
   "outputs": [
    {
     "data": {
      "text/html": [
       "<div>\n",
       "<style>\n",
       "    .dataframe thead tr:only-child th {\n",
       "        text-align: right;\n",
       "    }\n",
       "\n",
       "    .dataframe thead th {\n",
       "        text-align: left;\n",
       "    }\n",
       "\n",
       "    .dataframe tbody tr th {\n",
       "        vertical-align: top;\n",
       "    }\n",
       "</style>\n",
       "<table border=\"1\" class=\"dataframe\">\n",
       "  <thead>\n",
       "    <tr style=\"text-align: right;\">\n",
       "      <th></th>\n",
       "      <th>open</th>\n",
       "      <th>high</th>\n",
       "      <th>low</th>\n",
       "      <th>close</th>\n",
       "    </tr>\n",
       "  </thead>\n",
       "  <tbody>\n",
       "    <tr>\n",
       "      <th>0</th>\n",
       "      <td>209.894836</td>\n",
       "      <td>216.427353</td>\n",
       "      <td>207.758728</td>\n",
       "      <td>216.208771</td>\n",
       "    </tr>\n",
       "    <tr>\n",
       "      <th>1</th>\n",
       "      <td>220.515762</td>\n",
       "      <td>223.029404</td>\n",
       "      <td>218.454163</td>\n",
       "      <td>221.181427</td>\n",
       "    </tr>\n",
       "    <tr>\n",
       "      <th>2</th>\n",
       "      <td>221.558975</td>\n",
       "      <td>224.316040</td>\n",
       "      <td>219.323517</td>\n",
       "      <td>224.162048</td>\n",
       "    </tr>\n",
       "    <tr>\n",
       "      <th>3</th>\n",
       "      <td>226.958847</td>\n",
       "      <td>233.729813</td>\n",
       "      <td>225.155579</td>\n",
       "      <td>231.325455</td>\n",
       "    </tr>\n",
       "    <tr>\n",
       "      <th>4</th>\n",
       "      <td>231.698029</td>\n",
       "      <td>235.170441</td>\n",
       "      <td>228.980698</td>\n",
       "      <td>231.941452</td>\n",
       "    </tr>\n",
       "  </tbody>\n",
       "</table>\n",
       "</div>"
      ],
      "text/plain": [
       "         open        high         low       close\n",
       "0  209.894836  216.427353  207.758728  216.208771\n",
       "1  220.515762  223.029404  218.454163  221.181427\n",
       "2  221.558975  224.316040  219.323517  224.162048\n",
       "3  226.958847  233.729813  225.155579  231.325455\n",
       "4  231.698029  235.170441  228.980698  231.941452"
      ]
     },
     "execution_count": 73,
     "metadata": {},
     "output_type": "execute_result"
    }
   ],
   "source": [
    "traning_data = pd.read_csv('testing.csv', delim_whitespace=False, header=None)\n",
    "columns=['open','high','low','close']\n",
    "traning_data.columns = columns       #setting columns\n",
    "traning_data.head()"
   ]
  },
  {
   "cell_type": "markdown",
   "metadata": {},
   "source": [
    "## 大盤折線圖與20日均線圖"
   ]
  },
  {
   "cell_type": "code",
   "execution_count": 74,
   "metadata": {},
   "outputs": [
    {
     "data": {
      "text/plain": [
       "<matplotlib.axes._subplots.AxesSubplot at 0xcfae748>"
      ]
     },
     "execution_count": 74,
     "metadata": {},
     "output_type": "execute_result"
    },
    {
     "data": {
      "image/png": "[encoded data removed]",
      "text/plain": [
       "<Figure size 432x288 with 1 Axes>"
      ]
     },
     "metadata": {},
     "output_type": "display_data"
    }
   ],
   "source": [
    "%matplotlib inline\n",
    "close = traning_data['close']\n",
    "period=20                            #Average daily line in 2 days\n",
    "sma= close.rolling(period).mean()    #this is for decision\n",
    "new_close= close.rolling(3).mean()   #get a smooth close trend ,it can reduce the numbers of  trades.\n",
    "close.head(100).plot(linewidth=1)\n",
    "sma.head(100).plot(linewidth=1)\n",
    "new_close.head(100).plot()"
   ]
  },
  {
   "cell_type": "markdown",
   "metadata": {},
   "source": [
    "## 由觀察可知當大盤高於日均線時大盤傾向於上漲；反之下跌，而大盤以三日均線new_close代表"
   ]
  },
  {
   "cell_type": "markdown",
   "metadata": {},
   "source": [
    ">故我的策略為:\n",
    ">if     close>均線  then buy \n",
    ">elif   close<均線  then sell"
   ]
  },
  {
   "cell_type": "code",
   "execution_count": 75,
   "metadata": {
    "collapsed": true
   },
   "outputs": [],
   "source": [
    "rising=new_close>=sma  #close > sma ,then market is tending to rising\n",
    "falling=new_close<sma  #close < sma ,then market is tending to falling"
   ]
  },
  {
   "cell_type": "code",
   "execution_count": 76,
   "metadata": {
    "collapsed": true
   },
   "outputs": [],
   "source": [
    "trend=pd.Series([0]*len(rising),index=rising.index)\n",
    "trend[rising]=1\n",
    "trend[falling]=-1\n",
    "trend=trend[trend!=0].reindex(trend.index).ffill() #Trend representing the trend of the market"
   ]
  },
  {
   "cell_type": "markdown",
   "metadata": {},
   "source": [
    ">trend為大盤的傾向，1代表上漲、-1代表下跌、下圖為大盤傾向圖"
   ]
  },
  {
   "cell_type": "code",
   "execution_count": 77,
   "metadata": {},
   "outputs": [
    {
     "data": {
      "text/plain": [
       "<matplotlib.axes._subplots.AxesSubplot at 0xcee77b8>"
      ]
     },
     "execution_count": 77,
     "metadata": {},
     "output_type": "execute_result"
    },
    {
     "data": {
      "image/png": "[encoded data removed]",
      "text/plain": [
       "<Figure size 432x288 with 1 Axes>"
      ]
     },
     "metadata": {},
     "output_type": "display_data"
    }
   ],
   "source": [
    "%matplotlib inline\n",
    "trend.head(300).plot()"
   ]
  },
  {
   "cell_type": "markdown",
   "metadata": {},
   "source": [
    ">接著以走向為依據\n",
    ">進行股票的買、不動作、賣空，\n",
    ">分別代表1、0、-1"
   ]
  },
  {
   "cell_type": "code",
   "execution_count": 78,
   "metadata": {
    "collapsed": true
   },
   "outputs": [],
   "source": [
    "act=pd.Series([0]*(len(trend)+1)) #act is the action we take next day.\n",
    "\n",
    "temp=0\n",
    "for i in range(period,len(trend)):  \n",
    "    if (temp+trend[i-1]<=1)&(temp+trend[i-1]>=-1):\n",
    "        if (trend[i-1]==-1):\n",
    "            act[i]=-1\n",
    "        else:\n",
    "            act[i]=1\n",
    "        temp+=trend[i-1]"
   ]
  },
  {
   "cell_type": "markdown",
   "metadata": {},
   "source": [
    ">下圖為act的圖"
   ]
  },
  {
   "cell_type": "code",
   "execution_count": 79,
   "metadata": {},
   "outputs": [
    {
     "data": {
      "text/plain": [
       "<matplotlib.axes._subplots.AxesSubplot at 0xd04e710>"
      ]
     },
     "execution_count": 79,
     "metadata": {},
     "output_type": "execute_result"
    },
    {
     "data": {
      "image/png": "[encoded data removed]",
      "text/plain": [
       "<Figure size 432x288 with 1 Axes>"
      ]
     },
     "metadata": {},
     "output_type": "display_data"
    }
   ],
   "source": [
    "%matplotlib inline\n",
    "act.head(300).plot()"
   ]
  },
  {
   "cell_type": "markdown",
   "metadata": {},
   "source": [
    ">第一步不操作，故捨棄，因為宣告大小考量多宣告一個空間在此刪除\n",
    ">最後將結果存回csv檔。"
   ]
  },
  {
   "cell_type": "code",
   "execution_count": 80,
   "metadata": {},
   "outputs": [
    {
     "data": {
      "text/plain": [
       "1480    0\n",
       "1481    0\n",
       "1482    0\n",
       "1483    0\n",
       "1484   -1\n",
       "1485   -1\n",
       "1486    0\n",
       "1487    0\n",
       "1488    0\n",
       "1489    0\n",
       "1490    0\n",
       "1491    1\n",
       "1492    1\n",
       "1493    0\n",
       "1494    0\n",
       "1495    0\n",
       "1496    0\n",
       "1497    0\n",
       "1498    0\n",
       "1499    0\n",
       "1500    0\n",
       "1501    0\n",
       "1502    0\n",
       "1503    0\n",
       "1504    0\n",
       "1505    0\n",
       "1506    0\n",
       "1507    0\n",
       "1508    0\n",
       "1509    0\n",
       "dtype: int64"
      ]
     },
     "execution_count": 80,
     "metadata": {},
     "output_type": "execute_result"
    }
   ],
   "source": [
    "act.drop([0],inplace=True)\n",
    "act.drop([len(trend)],inplace=True)\n",
    "act.to_csv('output.csv', sep=',', encoding='utf-8',index=False)\n",
    "act.tail(30)"
   ]
  },
  {
   "cell_type": "code",
   "execution_count": null,
   "metadata": {
    "collapsed": true
   },
   "outputs": [],
   "source": []
  },
  {
   "cell_type": "code",
   "execution_count": null,
   "metadata": {
    "collapsed": true
   },
   "outputs": [],
   "source": []
  },
  {
   "cell_type": "code",
   "execution_count": null,
   "metadata": {
    "collapsed": true
   },
   "outputs": [],
   "source": []
  }
 ],
 "metadata": {
  "kernelspec": {
   "display_name": "Python 3",
   "language": "python",
   "name": "python3"
  },
  "language_info": {
   "codemirror_mode": {
    "name": "ipython",
    "version": 3
   },
   "file_extension": ".py",
   "mimetype": "text/x-python",
   "name": "python",
   "nbconvert_exporter": "python",
   "pygments_lexer": "ipython3",
   "version": "3.6.4"
  }
 },
 "nbformat": 4,
 "nbformat_minor": 2
}
