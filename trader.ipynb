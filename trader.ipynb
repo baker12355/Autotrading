{
 "cells": [
  {
   "cell_type": "markdown",
   "metadata": {},
   "source": [
    "# Homework 1"
   ]
  },
  {
   "cell_type": "code",
   "execution_count": 83,
   "metadata": {
    "collapsed": true
   },
   "outputs": [],
   "source": [
    "import pandas as pd"
   ]
  },
  {
   "cell_type": "markdown",
   "metadata": {},
   "source": [
    "## Load data"
   ]
  },
  {
   "cell_type": "code",
   "execution_count": 84,
   "metadata": {},
   "outputs": [
    {
     "data": {
      "text/html": [
       "<div>\n",
       "<style>\n",
       "    .dataframe thead tr:only-child th {\n",
       "        text-align: right;\n",
       "    }\n",
       "\n",
       "    .dataframe thead th {\n",
       "        text-align: left;\n",
       "    }\n",
       "\n",
       "    .dataframe tbody tr th {\n",
       "        vertical-align: top;\n",
       "    }\n",
       "</style>\n",
       "<table border=\"1\" class=\"dataframe\">\n",
       "  <thead>\n",
       "    <tr style=\"text-align: right;\">\n",
       "      <th></th>\n",
       "      <th>open</th>\n",
       "      <th>high</th>\n",
       "      <th>low</th>\n",
       "      <th>close</th>\n",
       "    </tr>\n",
       "  </thead>\n",
       "  <tbody>\n",
       "    <tr>\n",
       "      <th>0</th>\n",
       "      <td>324.360352</td>\n",
       "      <td>331.916199</td>\n",
       "      <td>324.077179</td>\n",
       "      <td>330.555054</td>\n",
       "    </tr>\n",
       "    <tr>\n",
       "      <th>1</th>\n",
       "      <td>330.366272</td>\n",
       "      <td>332.959412</td>\n",
       "      <td>328.175537</td>\n",
       "      <td>331.980774</td>\n",
       "    </tr>\n",
       "    <tr>\n",
       "      <th>2</th>\n",
       "      <td>328.925659</td>\n",
       "      <td>329.839722</td>\n",
       "      <td>325.994720</td>\n",
       "      <td>327.375732</td>\n",
       "    </tr>\n",
       "    <tr>\n",
       "      <th>3</th>\n",
       "      <td>327.445282</td>\n",
       "      <td>327.867523</td>\n",
       "      <td>322.795532</td>\n",
       "      <td>322.909790</td>\n",
       "    </tr>\n",
       "    <tr>\n",
       "      <th>4</th>\n",
       "      <td>321.161163</td>\n",
       "      <td>321.409546</td>\n",
       "      <td>308.607819</td>\n",
       "      <td>309.218842</td>\n",
       "    </tr>\n",
       "  </tbody>\n",
       "</table>\n",
       "</div>"
      ],
      "text/plain": [
       "         open        high         low       close\n",
       "0  324.360352  331.916199  324.077179  330.555054\n",
       "1  330.366272  332.959412  328.175537  331.980774\n",
       "2  328.925659  329.839722  325.994720  327.375732\n",
       "3  327.445282  327.867523  322.795532  322.909790\n",
       "4  321.161163  321.409546  308.607819  309.218842"
      ]
     },
     "execution_count": 84,
     "metadata": {},
     "output_type": "execute_result"
    }
   ],
   "source": [
    "traning_data = pd.read_csv('testing_data.csv', delim_whitespace=False, header=None)\n",
    "columns=['open','high','low','close']\n",
    "traning_data.columns = columns       #setting columns\n",
    "traning_data.head()"
   ]
  },
  {
   "cell_type": "markdown",
   "metadata": {},
   "source": [
    "## 大盤折線圖與20日均線圖"
   ]
  },
  {
   "cell_type": "code",
   "execution_count": 85,
   "metadata": {},
   "outputs": [
    {
     "data": {
      "text/plain": [
       "<matplotlib.axes._subplots.AxesSubplot at 0xd1535c0>"
      ]
     },
     "execution_count": 85,
     "metadata": {},
     "output_type": "execute_result"
    },
    {
     "data": {
      "image/png": "[encoded data removed]",
      "text/plain": [
       "<Figure size 432x288 with 1 Axes>"
      ]
     },
     "metadata": {},
     "output_type": "display_data"
    }
   ],
   "source": [
    "%matplotlib inline\n",
    "close = traning_data['close']\n",
    "period=20                            #Average daily line in 2 days\n",
    "sma= close.rolling(period).mean()    #this is for decision\n",
    "new_close= close.rolling(3).mean()   #get a smooth close trend ,it can reduce the numbers of  trades.\n",
    "close.head(100).plot(linewidth=1)\n",
    "sma.head(100).plot(linewidth=1)\n",
    "new_close.head(100).plot()"
   ]
  },
  {
   "cell_type": "markdown",
   "metadata": {},
   "source": [
    "## 由觀察可知當大盤高於日均線時大盤傾向於上漲；反之下跌，而大盤以三日均線new_close代表"
   ]
  },
  {
   "cell_type": "markdown",
   "metadata": {},
   "source": [
    ">故我的策略為:\n",
    ">if     close>均線  then buy \n",
    ">elif   close<均線  then sell"
   ]
  },
  {
   "cell_type": "code",
   "execution_count": 86,
   "metadata": {
    "collapsed": true
   },
   "outputs": [],
   "source": [
    "rising=new_close>=sma  #close > sma ,then market is tending to rising\n",
    "falling=new_close<sma  #close < sma ,then market is tending to falling"
   ]
  },
  {
   "cell_type": "code",
   "execution_count": 87,
   "metadata": {
    "collapsed": true
   },
   "outputs": [],
   "source": [
    "trend=pd.Series([0]*len(rising),index=rising.index)\n",
    "trend[rising]=1\n",
    "trend[falling]=-1\n",
    "trend=trend[trend!=0].reindex(trend.index).ffill() #Trend representing the trend of the market"
   ]
  },
  {
   "cell_type": "markdown",
   "metadata": {},
   "source": [
    ">trend為大盤的傾向，1代表上漲、-1代表下跌、下圖為大盤傾向圖"
   ]
  },
  {
   "cell_type": "code",
   "execution_count": 88,
   "metadata": {},
   "outputs": [
    {
     "data": {
      "text/plain": [
       "<matplotlib.axes._subplots.AxesSubplot at 0xd0b0be0>"
      ]
     },
     "execution_count": 88,
     "metadata": {},
     "output_type": "execute_result"
    },
    {
     "data": {
      "image/png": "[encoded data removed]",
      "text/plain": [
       "<Figure size 432x288 with 1 Axes>"
      ]
     },
     "metadata": {},
     "output_type": "display_data"
    }
   ],
   "source": [
    "%matplotlib inline\n",
    "trend.head(300).plot()"
   ]
  },
  {
   "cell_type": "markdown",
   "metadata": {},
   "source": [
    ">接著以走向為依據\n",
    ">進行股票的買、不動作、賣空，\n",
    ">分別代表1、0、-1"
   ]
  },
  {
   "cell_type": "code",
   "execution_count": 89,
   "metadata": {
    "collapsed": true
   },
   "outputs": [],
   "source": [
    "act=pd.Series([0]*(len(trend)+1)) #act is the action we take next day.\n",
    "\n",
    "temp=0\n",
    "for i in range(period,len(trend)):  \n",
    "    if (temp+trend[i-1]<=1)&(temp+trend[i-1]>=-1):\n",
    "        if (trend[i-1]==-1):\n",
    "            act[i]=-1\n",
    "        else:\n",
    "            act[i]=1\n",
    "        temp+=trend[i-1]"
   ]
  },
  {
   "cell_type": "markdown",
   "metadata": {},
   "source": [
    ">下圖為act的圖"
   ]
  },
  {
   "cell_type": "code",
   "execution_count": 90,
   "metadata": {},
   "outputs": [
    {
     "data": {
      "text/plain": [
       "<matplotlib.axes._subplots.AxesSubplot at 0xd1fde48>"
      ]
     },
     "execution_count": 90,
     "metadata": {},
     "output_type": "execute_result"
    },
    {
     "data": {
      "image/png": "[encoded data removed]",
      "text/plain": [
       "<Figure size 432x288 with 1 Axes>"
      ]
     },
     "metadata": {},
     "output_type": "display_data"
    }
   ],
   "source": [
    "%matplotlib inline\n",
    "act.head(300).plot()"
   ]
  },
  {
   "cell_type": "markdown",
   "metadata": {},
   "source": [
    ">第一步不操作，故捨棄，因為宣告大小考量多宣告一個空間在此刪除\n",
    ">最後將結果存回csv檔。"
   ]
  },
  {
   "cell_type": "code",
   "execution_count": 91,
   "metadata": {},
   "outputs": [
    {
     "data": {
      "text/plain": [
       "241    0\n",
       "242    0\n",
       "243    0\n",
       "244    0\n",
       "245    0\n",
       "246    0\n",
       "247    0\n",
       "248    0\n",
       "249    0\n",
       "250    0\n",
       "251    0\n",
       "252    0\n",
       "253    0\n",
       "254    0\n",
       "255    0\n",
       "256    0\n",
       "257    0\n",
       "258    0\n",
       "259    0\n",
       "260    0\n",
       "261   -1\n",
       "262   -1\n",
       "263    0\n",
       "264    0\n",
       "265    0\n",
       "266    1\n",
       "267    1\n",
       "268    0\n",
       "269    0\n",
       "270    0\n",
       "dtype: int64"
      ]
     },
     "execution_count": 91,
     "metadata": {},
     "output_type": "execute_result"
    }
   ],
   "source": [
    "act.drop([0],inplace=True)\n",
    "act.drop([len(trend)],inplace=True)\n",
    "act.to_csv('output.csv', sep=',', encoding='utf-8',index=False)\n",
    "act.tail(30)"
   ]
  },
  {
   "cell_type": "code",
   "execution_count": null,
   "metadata": {
    "collapsed": true
   },
   "outputs": [],
   "source": []
  },
  {
   "cell_type": "code",
   "execution_count": null,
   "metadata": {
    "collapsed": true
   },
   "outputs": [],
   "source": []
  },
  {
   "cell_type": "code",
   "execution_count": null,
   "metadata": {
    "collapsed": true
   },
   "outputs": [],
   "source": []
  }
 ],
 "metadata": {
  "kernelspec": {
   "display_name": "Python 3",
   "language": "python",
   "name": "python3"
  },
  "language_info": {
   "codemirror_mode": {
    "name": "ipython",
    "version": 3
   },
   "file_extension": ".py",
   "mimetype": "text/x-python",
   "name": "python",
   "nbconvert_exporter": "python",
   "pygments_lexer": "ipython3",
   "version": "3.6.4"
  }
 },
 "nbformat": 4,
 "nbformat_minor": 2
}
